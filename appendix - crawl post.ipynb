{
 "cells": [
  {
   "cell_type": "code",
   "execution_count": 5,
   "id": "d87c9a43",
   "metadata": {},
   "outputs": [
    {
     "ename": "IndexError",
     "evalue": "list index out of range",
     "output_type": "error",
     "traceback": [
      "\u001b[0;31m---------------------------------------------------------------------------\u001b[0m",
      "\u001b[0;31mIndexError\u001b[0m                                Traceback (most recent call last)",
      "\u001b[0;32m/var/folders/lw/1qr4ph6d2q1_yzcz8k90nkc40000gp/T/ipykernel_13081/515265811.py\u001b[0m in \u001b[0;36m<module>\u001b[0;34m\u001b[0m\n\u001b[1;32m     28\u001b[0m     \u001b[0;31m#xpath提取数据\u001b[0m\u001b[0;34m\u001b[0m\u001b[0;34m\u001b[0m\u001b[0m\n\u001b[1;32m     29\u001b[0m     \u001b[0;31m#抓微博内容\u001b[0m\u001b[0;34m\u001b[0m\u001b[0;34m\u001b[0m\u001b[0m\n\u001b[0;32m---> 30\u001b[0;31m     \u001b[0mcontent\u001b[0m\u001b[0;34m=\u001b[0m \u001b[0mhtml\u001b[0m\u001b[0;34m.\u001b[0m \u001b[0mxpath\u001b[0m\u001b[0;34m(\u001b[0m\u001b[0;34m'//*[@id=\"app\"]/div[1]/div/div[2]/div/article/div/div/div[1]/text()'\u001b[0m\u001b[0;34m)\u001b[0m\u001b[0;34m[\u001b[0m\u001b[0;36m0\u001b[0m\u001b[0;34m]\u001b[0m\u001b[0;34m\u001b[0m\u001b[0;34m\u001b[0m\u001b[0m\n\u001b[0m\u001b[1;32m     31\u001b[0m \u001b[0;34m\u001b[0m\u001b[0m\n\u001b[1;32m     32\u001b[0m \u001b[0;34m\u001b[0m\u001b[0m\n",
      "\u001b[0;31mIndexError\u001b[0m: list index out of range"
     ]
    }
   ],
   "source": [
    "#!/usr/bin/env python3\n",
    "# -*- coding: utf-8 -*-\n",
    "\n",
    "import requests\n",
    "from lxml import etree\n",
    "\n",
    "wids=[\"4740355381529651\",\"4740356820435425\",\"4740380483913305\",\"4740380556003973\",\"4740394976543406\",\"4740399740486241\",\"4740403570149898\",\"4740406007046141\",\"4740406187399837\",\"4740411702642996\",]\n",
    "\n",
    "#url设定\n",
    "urls=[]\n",
    "for wid in wids:\n",
    "    url = f\"https://m.weibo.cn/detail/{wid}\"\n",
    "    urls.append(url)\n",
    "\n",
    "for url in urls:\n",
    "    #定义请求头\n",
    "    headers = {\n",
    "        \"User-Agent\":\"Mozilla/5.0 (Macintosh; Intel Mac OS X 10_15_7) AppleWebKit/537.36 (KHTML, like Gecko) Chrome/105.0.0.0 Safari/537.36\",\n",
    "    \t\"cookie\":\"PC_TOKEN=71fc25a4f2; SUB=_2AkMUZL7bf8NxqwJRmP4RxGnkb45wywDEieKiOE8AJRMxHRl-yT92qhMBtRB6P-SQNI2oRmKRyi_hgUy8R9NkSzb-Qxer; SUBP=0033WrSXqPxfM72-Ws9jqgMF55529P9D9WFuachATUECZ_qe1W5MX18O; login_sid_t=446ab4655ba8218efe5170a56a8e2b81; cross_origin_proto=SSL; _s_tentry=passport.weibo.com; Apache=581930042991.5253.1664627185325; SINAGLOBAL=581930042991.5253.1664627185325; ULV=1664627185330:1:1:1:581930042991.5253.1664627185325:\",\n",
    "        }\n",
    "    response = requests.get (url, headers=headers)\n",
    "    content = response.content.decode ('utf8')\n",
    "    \n",
    "    #etree解析\n",
    "    html = etree.HTML(content)\n",
    "    \n",
    "    weibos=[]\n",
    "    #xpath提取数据\n",
    "    #抓微博内容\n",
    "    content= html. xpath('//*[@id=\"app\"]/div[1]/div/div[2]/div/article/div/div/div[1]/text()')[0]\n",
    "    \n",
    "    \n",
    "    #抓微博时间\n",
    "    time=html.xpath('//*[@id=\"app\"]/div[1]/div/div[2]/div/div[1]/header/div[2]/div/h4/span[1]/text()')[0][:3]\n",
    "    \n",
    "    #抓取发布者\n",
    "    user=html.xpath('//*[@id=\"app\"]/div[1]/div/div[2]/div/div[1]/header/div[2]/div/a/h3/text()')[0]\n",
    "    \n",
    "    weibo ={\n",
    "            \"content\":content,\n",
    "            \"time\" : time,\n",
    "            \"user\": user,\n",
    "           }\n",
    "    weibos.append(weibo)"
   ]
  },
  {
   "cell_type": "code",
   "execution_count": null,
   "id": "98fc945c",
   "metadata": {},
   "outputs": [],
   "source": []
  }
 ],
 "metadata": {
  "kernelspec": {
   "display_name": "Python 3 (ipykernel)",
   "language": "python",
   "name": "python3"
  },
  "language_info": {
   "codemirror_mode": {
    "name": "ipython",
    "version": 3
   },
   "file_extension": ".py",
   "mimetype": "text/x-python",
   "name": "python",
   "nbconvert_exporter": "python",
   "pygments_lexer": "ipython3",
   "version": "3.9.7"
  }
 },
 "nbformat": 4,
 "nbformat_minor": 5
}
