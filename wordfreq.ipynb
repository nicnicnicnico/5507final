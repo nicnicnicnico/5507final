{
 "cells": [
  {
   "cell_type": "code",
   "execution_count": 13,
   "id": "29138fee",
   "metadata": {},
   "outputs": [
    {
     "name": "stderr",
     "output_type": "stream",
     "text": [
      "Building prefix dict from the default dictionary ...\n",
      "Loading model from cache /var/folders/lw/1qr4ph6d2q1_yzcz8k90nkc40000gp/T/jieba.cache\n",
      "Loading model cost 0.440 seconds.\n",
      "Prefix dict has been built successfully.\n"
     ]
    }
   ],
   "source": [
    "import os\n",
    "import jieba\n",
    "import jieba.posseg as psg\n",
    "import re\n",
    "import pandas as pd\n",
    "def get_stop_dict(file):\n",
    "    content = open(file,encoding=\"utf-8\")\n",
    "    word_list = []\n",
    "    for c in content:\n",
    "        c = re.sub('\\n|\\r','',c)\n",
    "        word_list.append(c)\n",
    "    return word_list\n",
    "\n",
    "file_path = \"/Users/sallywong/Desktop/COM5507 Final\"\n",
    "os.chdir(file_path)\n",
    "\n",
    "stop_file = \"stopwordlist.txt\"\n",
    "user_file = \"add_word_list.txt\"\n",
    "synonym_file = \"synonym_list.xlsx\"\n",
    "\n",
    "stop_words = get_stop_dict(stop_file)\n",
    "synonym_words = pd.read_excel(\"synonym_list.xlsx\")\n",
    "synonym_origin = list(synonym_words['origin'])\n",
    "synonym_new = list(synonym_words['new'])\n",
    "\n",
    "file_name = \"/Users/sallywong/Desktop/COM5507 Final/中国公民撤侨.txt\"\n",
    "text = open(file_name,encoding=\"utf-8\").read()\n",
    "jieba.load_userdict(user_file)\n",
    "text_lines  = text.split('\\n')\n",
    "\n",
    "\n",
    "flag_list = ['n','nz','vn']#a,形容词，v,形容词\n",
    "counts={}\n",
    "\n",
    "for line in text_lines:\n",
    "    line_seg = psg.cut(line)\n",
    "    for word_flag in line_seg:\n",
    "        word = re.sub(\"[^\\u4e00-\\u9fa5]\",\"\",word_flag.word)\n",
    "        if word_flag.flag in flag_list and len(word)>1 and word not in stop_words:\n",
    "            if word in synonym_origin:\n",
    "                index = synonym_origin.index(word)\n",
    "                word = synonym_new[index]\n",
    "            counts[word]=counts.get(word,0)+1\n",
    "\n",
    "word_freq = pd.DataFrame({'word':list(counts.keys()),'freq':list(counts.values())})\n",
    "word_freq = word_freq.sort_values(by='freq',ascending=False)\n",
    "word_freq.to_excel(\"word_freq中国公民撤侨（最终版）.xlsx\",index=False)"
   ]
  },
  {
   "cell_type": "code",
   "execution_count": null,
   "id": "1c27ad7c",
   "metadata": {},
   "outputs": [],
   "source": []
  },
  {
   "cell_type": "code",
   "execution_count": null,
   "id": "4000f647",
   "metadata": {},
   "outputs": [],
   "source": []
  }
 ],
 "metadata": {
  "kernelspec": {
   "display_name": "Python 3 (ipykernel)",
   "language": "python",
   "name": "python3"
  },
  "language_info": {
   "codemirror_mode": {
    "name": "ipython",
    "version": 3
   },
   "file_extension": ".py",
   "mimetype": "text/x-python",
   "name": "python",
   "nbconvert_exporter": "python",
   "pygments_lexer": "ipython3",
   "version": "3.9.7"
  }
 },
 "nbformat": 4,
 "nbformat_minor": 5
}
