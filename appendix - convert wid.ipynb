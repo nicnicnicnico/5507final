{
 "cells": [
  {
   "cell_type": "code",
   "execution_count": 3,
   "id": "b50b9fb4",
   "metadata": {},
   "outputs": [
    {
     "name": "stdout",
     "output_type": "stream",
     "text": [
      "Collecting PyExecJS\n",
      "  Downloading PyExecJS-1.5.1.tar.gz (13 kB)\n",
      "Requirement already satisfied: six>=1.10.0 in /opt/anaconda3/lib/python3.9/site-packages (from PyExecJS) (1.12.0)\n",
      "Building wheels for collected packages: PyExecJS\n",
      "  Building wheel for PyExecJS (setup.py) ... \u001b[?25ldone\n",
      "\u001b[?25h  Created wheel for PyExecJS: filename=PyExecJS-1.5.1-py3-none-any.whl size=14596 sha256=23a71c3f0fe55265a51b551d0fe53ddb93b771d3ca35e2d350886861171e7ac4\n",
      "  Stored in directory: /Users/sallywong/Library/Caches/pip/wheels/5b/ac/94/92a4835bff6f53c3faa26411e9db1a879d6e662c75b18a9603\n",
      "Successfully built PyExecJS\n",
      "Installing collected packages: PyExecJS\n",
      "Successfully installed PyExecJS-1.5.1\n"
     ]
    }
   ],
   "source": [
    "!pip install PyExecJS"
   ]
  },
  {
   "cell_type": "code",
   "execution_count": 7,
   "id": "9295b182",
   "metadata": {},
   "outputs": [
    {
     "name": "stdout",
     "output_type": "stream",
     "text": [
      "4720798839080899\n",
      "KnnG78Yf3\n"
     ]
    }
   ],
   "source": [
    "#!/usr/bin/env python3\n",
    "# -*- coding: utf-8 -*-\n",
    "\n",
    "import execjs\n",
    "jspython = '''str62keys = \"0123456789abcdefghijklmnopqrstuvwxyzABCDEFGHIJKLMNOPQRSTUVWXYZ\";\n",
    "/**\n",
    "* 10进制值转换为62进制\n",
    "* @param {String} int10 10进制值\n",
    "* @return {String} 62进制值\n",
    "*/\n",
    "function int10to62(int10) {\n",
    "    var s62 = '';\n",
    "    var r = 0;\n",
    "    while (int10 != 0) {\n",
    "            r = int10 % 62;\n",
    "            s62 = this.str62keys.charAt(r) + s62;\n",
    "            int10 = Math.floor(int10 / 62);\n",
    "    }\n",
    "    return s62;\n",
    "}\n",
    "/**\n",
    "* 62进制值转换为10进制\n",
    "* @param {String} str62 62进制值\n",
    "* @return {String} 10进制值\n",
    "*/\n",
    "function str62to10(str62) {\n",
    "    var i10 = 0;\n",
    "    for (var i = 0; i < str62.length; i++) {\n",
    "            var n = str62.length - i - 1;\n",
    "            var s = str62.substr(i, 1);  // str62[i]; 字符串用数组方式获取，IE下不支持为“undefined”\n",
    "            i10 += parseInt(str62keys.indexOf(s)) * Math.pow(62, n);\n",
    "    }\n",
    "    return i10;\n",
    "}\n",
    "/**\n",
    "* id转换为mid\n",
    "* @param {String} id 微博id，如 \"201110410216293360\"\n",
    "* @return {String} 微博mid，如 \"wr4mOFqpbO\"\n",
    "*/\n",
    "function id2mid(id) {\n",
    "    if (typeof (id) != 'string') {\n",
    "            return false; // id数值较大，必须为字符串！\n",
    "    }\n",
    "    var mid = '';\n",
    "    for (var i = id.length - 7; i > -7; i = i - 7) //从最后往前以7字节为一组读取mid\n",
    "    {\n",
    "            var offset1 = i < 0 ? 0 : i;\n",
    "            var offset2 = i + 7;\n",
    "            var num = id.substring(offset1, offset2);\n",
    "            num = int10to62(num);\n",
    "            mid = num + mid;\n",
    "    }\n",
    "    return mid;\n",
    "}\n",
    "/**\n",
    "* mid转换为id\n",
    "* @param {String} mid 微博mid，如 \"wr4mOFqpbO\"\n",
    "* @return {String} 微博id，如 \"201110410216293360\"\n",
    "*/\n",
    "function mid2id(mid) {\n",
    "    var id = '';\n",
    "    for (var i = mid.length - 4; i > -4; i = i - 4) //从最后往前以4字节为一组读取mid字符\n",
    "    {\n",
    "            var offset1 = i < 0 ? 0 : i;\n",
    "            var len = i < 0 ? parseInt(mid.length % 4) : 4;\n",
    "            var str = mid.substr(offset1, len);\n",
    "            str = str62to10(str).toString();\n",
    "            if (offset1 > 0) //若不是第一组，则不足7位补0\n",
    "            {\n",
    "                    while (str.length < 7) {\n",
    "                            str = '0' + str;\n",
    "                    }\n",
    "            }\n",
    "            id = str + id;\n",
    "    }\n",
    "    return id;\n",
    "}'''\n",
    "ctx = execjs.compile(jspython) # 编译 js\n",
    "\n",
    "def mid2id(mid):\n",
    "    return ctx.call('mid2id', mid)\n",
    "\n",
    "def id2mid(id):\n",
    "    return ctx.call('id2mid', id)\n",
    "\n",
    "if __name__ == '__main__':\n",
    "    global mid\n",
    "    mid = 'L8J4vC6m7'\n",
    "    id = mid2id(mid)\n",
    "    print(id)\n",
    "    id = '4655725672138197'\n",
    "    mid = id2mid(id)\n",
    "    print(mid)\n"
   ]
  },
  {
   "cell_type": "code",
   "execution_count": null,
   "id": "884975db",
   "metadata": {},
   "outputs": [],
   "source": []
  }
 ],
 "metadata": {
  "kernelspec": {
   "display_name": "Python 3 (ipykernel)",
   "language": "python",
   "name": "python3"
  },
  "language_info": {
   "codemirror_mode": {
    "name": "ipython",
    "version": 3
   },
   "file_extension": ".py",
   "mimetype": "text/x-python",
   "name": "python",
   "nbconvert_exporter": "python",
   "pygments_lexer": "ipython3",
   "version": "3.9.7"
  }
 },
 "nbformat": 4,
 "nbformat_minor": 5
}
